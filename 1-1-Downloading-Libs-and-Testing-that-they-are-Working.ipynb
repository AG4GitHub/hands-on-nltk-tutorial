{
 "cells": [
  {
   "cell_type": "code",
   "execution_count": 3,
   "metadata": {},
   "outputs": [],
   "source": [
    "# Make sure you can successfully import all packages below without errors.\n",
    "import numpy as np # https://www.scipy.org/install.html\n",
    "import pandas as pd # https://pandas.pydata.org/pandas-docs/stable/install.html\n",
    "import matplotlib.pyplot as plt # https://matplotlib.org/downloads.html\n",
    "import seaborn as sns # https://seaborn.pydata.org/installing.html\n",
    "import nltk # https://www.nltk.org/install.html NB: FOR NLTK YOU ALSO NEED TO RUN nltk.download()\n",
    "import langdetect # https://pypi.python.org/pypi/langdetect\n",
    "import langid # https://github.com/saffsd/langid.py\n",
    "import tweepy # https://github.com/tweepy/tweepy\n",
    "import gensim # https://radimrehurek.com/gensim/install.html\n",
    "import TwitterSearch # https://github.com/ckoepp/TwitterSearch\n",
    "import unidecode # https://pypi.python.org/pypi/Unidecode"
   ]
  }
 ],
 "metadata": {
  "kernelspec": {
   "display_name": "Python 3",
   "language": "python",
   "name": "python3"
  },
  "language_info": {
   "codemirror_mode": {
    "name": "ipython",
    "version": 3
   },
   "file_extension": ".py",
   "mimetype": "text/x-python",
   "name": "python",
   "nbconvert_exporter": "python",
   "pygments_lexer": "ipython3",
   "version": "3.6.4"
  }
 },
 "nbformat": 4,
 "nbformat_minor": 2
}
